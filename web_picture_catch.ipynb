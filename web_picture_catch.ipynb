{
 "cells": [
  {
   "cell_type": "code",
   "execution_count": 2,
   "metadata": {},
   "outputs": [],
   "source": [
    "import requests\n",
    "from bs4 import BeautifulSoup\n",
    "import os"
   ]
  },
  {
   "attachments": {},
   "cell_type": "markdown",
   "metadata": {},
   "source": [
    "### 获取网页图片的函数"
   ]
  },
  {
   "cell_type": "code",
   "execution_count": 3,
   "metadata": {},
   "outputs": [],
   "source": [
    "'''\n",
    "首先指定要爬取的网页的URL，然后使用requests库发出GET请求，将网页源代码保存在response变量中。\n",
    "接下来，我们使用BeautifulSoup库解析HTML内容，并使用find_all()方法找到所有图像标记。\n",
    "对于每个图像标记，我们从src属性中提取图像的URL，并使用requests库下载该图像的二进制数据。\n",
    "最后，我们将图像数据写入以图像名称命名的文件中，并将其保存在名为images的目录中。'''\n",
    "\n",
    "def get_picture(url_text,url_num):\n",
    "    # URL of the webpage that contains the images\n",
    "    url = url_text\n",
    "    # Make a request to the webpage\n",
    "    response = requests.get(url)\n",
    "    # Parse the HTML content of the webpage\n",
    "    soup = BeautifulSoup(response.content, 'html.parser') # 解析HTML数据，返回一个bs4.BeautifulSoup对象\n",
    "    # Find all image tags in the HTML\n",
    "    img_tags = soup.find_all('img') # 提取所有包含'img' 的数据\n",
    "    # Download each image and save it in the images directory\n",
    "    for img in img_tags:\n",
    "        img_url = img['src']\n",
    "        img_name = os.path.basename(img_url)\n",
    "        img_data = requests.get(img_url).content\n",
    "        with open('{}/'.format(url_num) + img_name, 'wb') as handler:\n",
    "            handler.write(img_data)\n",
    "            #print(f\"{img_name} downloaded successfully.\")"
   ]
  },
  {
   "attachments": {},
   "cell_type": "markdown",
   "metadata": {},
   "source": [
    "### 显示下载进度的函数"
   ]
  },
  {
   "cell_type": "code",
   "execution_count": 4,
   "metadata": {},
   "outputs": [],
   "source": [
    "# -*- coding: UTF-8 -*-\n",
    "# https://blog.csdn.net/u013832707/article/details/73608504\n",
    "import sys\n",
    "\n",
    "class ShowProcess():\n",
    "    \"\"\"\n",
    "    显示处理进度的类\n",
    "    调用该类相关函数即可实现处理进度的显示\n",
    "    \"\"\"\n",
    "    i = 0 # 当前的处理进度\n",
    "    max_steps = 0 # 总共需要处理的次数\n",
    "    max_arrow = 50 #进度条的长度\n",
    "    infoDone = 'done'\n",
    "\n",
    "    # 初始化函数，需要知道总共的处理次数\n",
    "    def __init__(self, max_steps, infoDone = 'Done'):\n",
    "        self.max_steps = max_steps\n",
    "        self.i = 0\n",
    "        self.infoDone = infoDone\n",
    "\n",
    "    # 显示函数，根据当前的处理进度i显示进度\n",
    "    # 效果为[>>>>>>>>>>>>>>>>>>>>>>>>>>>>>>>>>>>>>>>>>>>>>>>>>>]100.00%\n",
    "    def show_process(self, i=None):\n",
    "        if i is not None:\n",
    "            self.i = i\n",
    "        else:\n",
    "            self.i += 1\n",
    "        num_arrow = int(self.i * self.max_arrow / self.max_steps) #计算显示多少个'>'\n",
    "        num_line = self.max_arrow - num_arrow #计算显示多少个'-'\n",
    "        percent = self.i * 100.0 / self.max_steps #计算完成进度，格式为xx.xx%\n",
    "        process_bar = '[' + '>' * num_arrow + '-' * num_line + ']'\\\n",
    "                      + '%.2f' % percent + '%' + '\\r' #带输出的字符串，'\\r'表示不换行回到最左边\n",
    "        sys.stdout.write(process_bar) #这两句打印字符到终端\n",
    "        sys.stdout.flush()\n",
    "        if self.i >= self.max_steps:\n",
    "            self.close()\n",
    "\n",
    "    def close(self):\n",
    "        print('')\n",
    "        print(self.infoDone)\n",
    "        self.i = 0\n"
   ]
  },
  {
   "attachments": {},
   "cell_type": "markdown",
   "metadata": {},
   "source": [
    "### 用于下载图集的函数"
   ]
  },
  {
   "attachments": {},
   "cell_type": "markdown",
   "metadata": {},
   "source": [
    "为避免法律问题，这里用 '图片网站' 代替真实的网址"
   ]
  },
  {
   "cell_type": "code",
   "execution_count": 5,
   "metadata": {},
   "outputs": [],
   "source": [
    "\n",
    "def catch_pic(url_num,page):\n",
    "    # Create a directory to store the downloaded images\n",
    "    if not os.path.exists('{}'.format(url_num)): # 判断路径中是否存在该文件\n",
    "        os.makedirs('{}'.format(url_num)) # 不存在则创建该文件\n",
    "    process_bar = ShowProcess(page, 'Processing Finished') # 进度条\n",
    "    for i in range(1,page+1):\n",
    "        url_text='图片网站'+str(url_num)+'.html/{}'.format(i)\n",
    "        process_bar.show_process() # 进度条\n",
    "        get_picture(url_text,url_num)\n"
   ]
  },
  {
   "attachments": {},
   "cell_type": "markdown",
   "metadata": {},
   "source": [
    "### 开始下载"
   ]
  },
  {
   "attachments": {},
   "cell_type": "markdown",
   "metadata": {},
   "source": [
    "只需要输入 图集的需要 与 图集的页数，即可开始下载"
   ]
  },
  {
   "cell_type": "code",
   "execution_count": 6,
   "metadata": {},
   "outputs": [
    {
     "name": "stdout",
     "output_type": "stream",
     "text": [
      "[>>>>>>>>>>>>>>>>>>>>>>>>>>>>>>>>>>>>>>>>>>>>>>>>>>]100.00%\n",
      "Processing Finished\n",
      "[>>>>>>>>>>>>>>>>>>>>>>>>>>>>>>>>>>>>>>>>>>>>>>>>>>]100.00%\n",
      "Processing Finished\n"
     ]
    }
   ],
   "source": [
    "catch_pic(91291,17) \n",
    "catch_pic(91478,20) \n"
   ]
  }
 ],
 "metadata": {
  "kernelspec": {
   "display_name": "tensorflow",
   "language": "python",
   "name": "python3"
  },
  "language_info": {
   "codemirror_mode": {
    "name": "ipython",
    "version": 3
   },
   "file_extension": ".py",
   "mimetype": "text/x-python",
   "name": "python",
   "nbconvert_exporter": "python",
   "pygments_lexer": "ipython3",
   "version": "3.9.16"
  },
  "orig_nbformat": 4
 },
 "nbformat": 4,
 "nbformat_minor": 2
}
